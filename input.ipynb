{
 "cells": [
  {
   "cell_type": "code",
   "execution_count": 1,
   "metadata": {},
   "outputs": [
    {
     "name": "stdout",
     "output_type": "stream",
     "text": [
      "Requirement already satisfied: librosa in c:\\users\\roopa\\anaconda3\\lib\\site-packages (0.8.1)\n",
      "Requirement already satisfied: soundfile in c:\\users\\roopa\\anaconda3\\lib\\site-packages (0.10.3.post1)\n",
      "Requirement already satisfied: numpy in c:\\users\\roopa\\anaconda3\\lib\\site-packages (1.19.2)\n",
      "Requirement already satisfied: sklearn in c:\\users\\roopa\\anaconda3\\lib\\site-packages (0.0)\n",
      "Collecting pyaudio\n",
      "  Using cached PyAudio-0.2.11.tar.gz (37 kB)\n",
      "Requirement already satisfied: scikit-learn!=0.19.0,>=0.14.0 in c:\\users\\roopa\\anaconda3\\lib\\site-packages (from librosa) (0.23.2)\n",
      "Requirement already satisfied: numba>=0.43.0 in c:\\users\\roopa\\anaconda3\\lib\\site-packages (from librosa) (0.51.2)\n",
      "Requirement already satisfied: joblib>=0.14 in c:\\users\\roopa\\anaconda3\\lib\\site-packages (from librosa) (0.17.0)\n",
      "Requirement already satisfied: audioread>=2.0.0 in c:\\users\\roopa\\anaconda3\\lib\\site-packages (from librosa) (2.1.9)\n",
      "Requirement already satisfied: packaging>=20.0 in c:\\users\\roopa\\anaconda3\\lib\\site-packages (from librosa) (20.4)\n",
      "Requirement already satisfied: decorator>=3.0.0 in c:\\users\\roopa\\anaconda3\\lib\\site-packages (from librosa) (4.4.2)\n",
      "Requirement already satisfied: pooch>=1.0 in c:\\users\\roopa\\anaconda3\\lib\\site-packages (from librosa) (1.4.0)\n",
      "Requirement already satisfied: scipy>=1.0.0 in c:\\users\\roopa\\anaconda3\\lib\\site-packages (from librosa) (1.5.2)\n",
      "Requirement already satisfied: resampy>=0.2.2 in c:\\users\\roopa\\anaconda3\\lib\\site-packages (from librosa) (0.2.2)\n",
      "Requirement already satisfied: cffi>=1.0 in c:\\users\\roopa\\anaconda3\\lib\\site-packages (from soundfile) (1.14.3)\n",
      "Requirement already satisfied: threadpoolctl>=2.0.0 in c:\\users\\roopa\\anaconda3\\lib\\site-packages (from scikit-learn!=0.19.0,>=0.14.0->librosa) (2.1.0)\n",
      "Requirement already satisfied: llvmlite<0.35,>=0.34.0.dev0 in c:\\users\\roopa\\anaconda3\\lib\\site-packages (from numba>=0.43.0->librosa) (0.34.0)\n",
      "Requirement already satisfied: setuptools in c:\\users\\roopa\\anaconda3\\lib\\site-packages (from numba>=0.43.0->librosa) (50.3.1.post20201107)\n",
      "Requirement already satisfied: six in c:\\users\\roopa\\anaconda3\\lib\\site-packages (from packaging>=20.0->librosa) (1.15.0)\n",
      "Requirement already satisfied: pyparsing>=2.0.2 in c:\\users\\roopa\\anaconda3\\lib\\site-packages (from packaging>=20.0->librosa) (2.4.7)\n",
      "Requirement already satisfied: requests in c:\\users\\roopa\\anaconda3\\lib\\site-packages (from pooch>=1.0->librosa) (2.24.0)\n",
      "Requirement already satisfied: appdirs in c:\\users\\roopa\\anaconda3\\lib\\site-packages (from pooch>=1.0->librosa) (1.4.4)\n",
      "Requirement already satisfied: pycparser in c:\\users\\roopa\\anaconda3\\lib\\site-packages (from cffi>=1.0->soundfile) (2.20)\n",
      "Requirement already satisfied: certifi>=2017.4.17 in c:\\users\\roopa\\anaconda3\\lib\\site-packages (from requests->pooch>=1.0->librosa) (2020.6.20)\n",
      "Requirement already satisfied: chardet<4,>=3.0.2 in c:\\users\\roopa\\anaconda3\\lib\\site-packages (from requests->pooch>=1.0->librosa) (3.0.4)\n",
      "Requirement already satisfied: idna<3,>=2.5 in c:\\users\\roopa\\anaconda3\\lib\\site-packages (from requests->pooch>=1.0->librosa) (2.10)\n",
      "Requirement already satisfied: urllib3!=1.25.0,!=1.25.1,<1.26,>=1.21.1 in c:\\users\\roopa\\anaconda3\\lib\\site-packages (from requests->pooch>=1.0->librosa) (1.25.11)\n",
      "Building wheels for collected packages: pyaudio\n",
      "  Building wheel for pyaudio (setup.py): started\n"
     ]
    },
    {
     "name": "stderr",
     "output_type": "stream",
     "text": [
      "  ERROR: Command errored out with exit status 1:\n",
      "   command: 'C:\\Users\\roopa\\anaconda3\\python.exe' -u -c 'import sys, setuptools, tokenize; sys.argv[0] = '\"'\"'C:\\\\Users\\\\roopa\\\\AppData\\\\Local\\\\Temp\\\\pip-install-6eq3ver_\\\\pyaudio\\\\setup.py'\"'\"'; __file__='\"'\"'C:\\\\Users\\\\roopa\\\\AppData\\\\Local\\\\Temp\\\\pip-install-6eq3ver_\\\\pyaudio\\\\setup.py'\"'\"';f=getattr(tokenize, '\"'\"'open'\"'\"', open)(__file__);code=f.read().replace('\"'\"'\\r\\n'\"'\"', '\"'\"'\\n'\"'\"');f.close();exec(compile(code, __file__, '\"'\"'exec'\"'\"'))' bdist_wheel -d 'C:\\Users\\roopa\\AppData\\Local\\Temp\\pip-wheel-sejpymgm'\n",
      "       cwd: C:\\Users\\roopa\\AppData\\Local\\Temp\\pip-install-6eq3ver_\\pyaudio\\\n",
      "  Complete output (9 lines):\n",
      "  running bdist_wheel\n",
      "  running build\n",
      "  running build_py\n",
      "  creating build\n",
      "  creating build\\lib.win-amd64-3.8\n",
      "  copying src\\pyaudio.py -> build\\lib.win-amd64-3.8\n",
      "  running build_ext\n",
      "  building '_portaudio' extension\n",
      "  error: Microsoft Visual C++ 14.0 or greater is required. Get it with \"Microsoft C++ Build Tools\": https://visualstudio.microsoft.com/visual-cpp-build-tools/\n",
      "  ----------------------------------------\n",
      "  ERROR: Failed building wheel for pyaudio\n",
      "    ERROR: Command errored out with exit status 1:\n",
      "     command: 'C:\\Users\\roopa\\anaconda3\\python.exe' -u -c 'import sys, setuptools, tokenize; sys.argv[0] = '\"'\"'C:\\\\Users\\\\roopa\\\\AppData\\\\Local\\\\Temp\\\\pip-install-6eq3ver_\\\\pyaudio\\\\setup.py'\"'\"'; __file__='\"'\"'C:\\\\Users\\\\roopa\\\\AppData\\\\Local\\\\Temp\\\\pip-install-6eq3ver_\\\\pyaudio\\\\setup.py'\"'\"';f=getattr(tokenize, '\"'\"'open'\"'\"', open)(__file__);code=f.read().replace('\"'\"'\\r\\n'\"'\"', '\"'\"'\\n'\"'\"');f.close();exec(compile(code, __file__, '\"'\"'exec'\"'\"'))' install --record 'C:\\Users\\roopa\\AppData\\Local\\Temp\\pip-record-jgb2jmz1\\install-record.txt' --single-version-externally-managed --compile --install-headers 'C:\\Users\\roopa\\anaconda3\\Include\\pyaudio'\n",
      "         cwd: C:\\Users\\roopa\\AppData\\Local\\Temp\\pip-install-6eq3ver_\\pyaudio\\\n",
      "    Complete output (9 lines):\n",
      "    running install\n",
      "    running build\n",
      "    running build_py\n",
      "    creating build\n",
      "    creating build\\lib.win-amd64-3.8\n",
      "    copying src\\pyaudio.py -> build\\lib.win-amd64-3.8\n",
      "    running build_ext\n",
      "    building '_portaudio' extension\n",
      "    error: Microsoft Visual C++ 14.0 or greater is required. Get it with \"Microsoft C++ Build Tools\": https://visualstudio.microsoft.com/visual-cpp-build-tools/\n",
      "    ----------------------------------------\n",
      "ERROR: Command errored out with exit status 1: 'C:\\Users\\roopa\\anaconda3\\python.exe' -u -c 'import sys, setuptools, tokenize; sys.argv[0] = '\"'\"'C:\\\\Users\\\\roopa\\\\AppData\\\\Local\\\\Temp\\\\pip-install-6eq3ver_\\\\pyaudio\\\\setup.py'\"'\"'; __file__='\"'\"'C:\\\\Users\\\\roopa\\\\AppData\\\\Local\\\\Temp\\\\pip-install-6eq3ver_\\\\pyaudio\\\\setup.py'\"'\"';f=getattr(tokenize, '\"'\"'open'\"'\"', open)(__file__);code=f.read().replace('\"'\"'\\r\\n'\"'\"', '\"'\"'\\n'\"'\"');f.close();exec(compile(code, __file__, '\"'\"'exec'\"'\"'))' install --record 'C:\\Users\\roopa\\AppData\\Local\\Temp\\pip-record-jgb2jmz1\\install-record.txt' --single-version-externally-managed --compile --install-headers 'C:\\Users\\roopa\\anaconda3\\Include\\pyaudio' Check the logs for full command output.\n"
     ]
    },
    {
     "name": "stdout",
     "output_type": "stream",
     "text": [
      "  Building wheel for pyaudio (setup.py): finished with status 'error'\n",
      "  Running setup.py clean for pyaudio\n",
      "Failed to build pyaudio\n",
      "Installing collected packages: pyaudio\n",
      "    Running setup.py install for pyaudio: started\n",
      "    Running setup.py install for pyaudio: finished with status 'error'\n"
     ]
    }
   ],
   "source": [
    "!pip install librosa soundfile numpy sklearn pyaudio"
   ]
  },
  {
   "cell_type": "code",
   "execution_count": 2,
   "metadata": {},
   "outputs": [
    {
     "name": "stdout",
     "output_type": "stream",
     "text": [
      "Requirement already satisfied: soundfile in c:\\users\\roopa\\anaconda3\\lib\\site-packages (0.10.3.post1)\n",
      "Requirement already satisfied: cffi>=1.0 in c:\\users\\roopa\\anaconda3\\lib\\site-packages (from soundfile) (1.14.3)\n",
      "Requirement already satisfied: pycparser in c:\\users\\roopa\\anaconda3\\lib\\site-packages (from cffi>=1.0->soundfile) (2.20)\n"
     ]
    }
   ],
   "source": [
    "!pip install soundfile"
   ]
  },
  {
   "cell_type": "code",
   "execution_count": 3,
   "metadata": {},
   "outputs": [],
   "source": [
    "import librosa\n",
    "import soundfile\n",
    "import os, glob, pickle\n",
    "import numpy as np\n",
    "from sklearn.model_selection import train_test_split\n",
    "from sklearn.neural_network import MLPClassifier\n",
    "from sklearn.metrics import accuracy_score"
   ]
  },
  {
   "cell_type": "code",
   "execution_count": 4,
   "metadata": {},
   "outputs": [],
   "source": [
    "def extract_feature(file_name, mfcc, chroma, mel):\n",
    "    X, sample_rate = librosa.load(os.path.join(file_name), res_type='kaiser_fast')\n",
    "    if chroma:\n",
    "        stft=np.abs(librosa.stft(X))\n",
    "    result=np.array([])\n",
    "    if mfcc:\n",
    "        mfccs=np.mean(librosa.feature.mfcc(y=X, sr=sample_rate, n_mfcc=40).T, axis=0)\n",
    "        result=np.hstack((result, mfccs))\n",
    "    if chroma:\n",
    "        chroma=np.mean(librosa.feature.chroma_stft(S=stft, sr=sample_rate).T,axis=0)\n",
    "        result=np.hstack((result, chroma))\n",
    "    if mel:\n",
    "        mel=np.mean(librosa.feature.melspectrogram(X, sr=sample_rate).T,axis=0)\n",
    "        result=np.hstack((result, mel))\n",
    "    return result"
   ]
  },
  {
   "cell_type": "code",
   "execution_count": 5,
   "metadata": {},
   "outputs": [],
   "source": [
    "# Emotions in the RAVDESS & TESS dataset\n",
    "emotions={\n",
    "  '01':'neutral',\n",
    "  '02':'calm',\n",
    "  '03':'happy',\n",
    "  '04':'sad',\n",
    "  '05':'angry',\n",
    "  '06':'fearful',\n",
    "  '07':'disgust',\n",
    "  '08':'surprised'\n",
    "}\n",
    "# Emotions to observe\n",
    "observed_emotions=['neutral','calm','happy','sad','angry','fearful', 'disgust','surprised']"
   ]
  },
  {
   "cell_type": "code",
   "execution_count": 6,
   "metadata": {},
   "outputs": [],
   "source": [
    "def load_data(test_size=0.2):\n",
    "    x,y=[],[]\n",
    "    for file in glob.glob('./NewDataSet/*_*/*.wav'):\n",
    "        file_name=os.path.basename(file)\n",
    "        if file_name[0]=='0':\n",
    "            emotion=emotions[file_name.split(\"-\")[2]]\n",
    "        else:\n",
    "            emotion=file_name.split(\"_\")[2]\n",
    "            emotion=emotion.split(\".\")[0]\n",
    "        #print(emotion)\n",
    "        if emotion not in observed_emotions:\n",
    "            continue\n",
    "        feature=extract_feature(file, mfcc=True, chroma=True, mel=True)\n",
    "        x.append(feature)\n",
    "        y.append(emotion)\n",
    "    return train_test_split(np.array(x), y, test_size=test_size, train_size= 0.75,random_state=9)"
   ]
  },
  {
   "cell_type": "code",
   "execution_count": null,
   "metadata": {},
   "outputs": [
    {
     "name": "stdout",
     "output_type": "stream",
     "text": [
      "neutral\n"
     ]
    }
   ],
   "source": [
    "from tkinter import *\n",
    "\n",
    "master = Tk()\n",
    "master.geometry(\"500x500\")\n",
    "master.minsize(200,200)\n",
    "master.title(\"Speech Emotion Detector\")\n",
    "frame1=Frame(master,relief=SUNKEN)\n",
    "frame1.place(relx=.5, rely=.5,anchor= CENTER)\n",
    "master.config(bg='#ffd6d6')\n",
    "frame1.config(bg=\"#ffd6d6\")\n",
    "# f1.pack(side=TOP,fill=\"x\")\n",
    "# l.pack(padx=40)\n",
    "name = Label(frame1, text =\"Input\",bg=\"#ffd6d6\", font=(\"Arial\", 25)).grid(row=0,column=0,pady= 10)\n",
    "e1 = Entry(frame1,fg=\"blue\",width=25)\n",
    "e1.grid(row=1,column=0,pady= 10)\n",
    "def myClick():\n",
    "    file=\"./NewDataSet/\"\n",
    "    file=file+e1.get()+\".wav\"\n",
    "    feature=extract_feature(file,mfcc=True,chroma=True,mel=True)\n",
    "    #Split the dataset \n",
    "    x_train,x_test,y_train,y_test=load_data(test_size=0.25)\n",
    "    # Initialize the Multi Layer Perceptron Classifier\n",
    "    model=MLPClassifier(alpha=0.01, batch_size=256, epsilon=1e-08, hidden_layer_sizes=(300,), learning_rate='adaptive', max_iter=500)\n",
    "    # Train the model\n",
    "    model.fit(x_train,y_train)\n",
    "    import time\n",
    "    y_pred=model.predict(x_test)\n",
    "    y_pre=model.predict([feature])\n",
    "    print(y_pre[0])\n",
    "    label=Label(frame1,text=\"Detected Emotion is: \"+y_pre[0],bg=\"#ffd6d6\",font=(\"Arial\", 35)).grid(row=3,column=0,pady= 10)\n",
    "    time.sleep(2)\n",
    "    label2=Label(frame1,text=\"Do You want hear some songs?\",bg=\"#ffd6d6\").grid(row=4,column=0,pady= 20)\n",
    "    def playsong():\n",
    "        import webbrowser\n",
    "        if y_pre[0]==\"calm\":\n",
    "            webbrowser.open('https://www.youtube.com/watch?v=vyPBC25QfFM')\n",
    "        elif y_pre[0]==\"neutral\":\n",
    "            webbrowser.open('https://www.youtube.com/watch?v=o2DXt11SMNI')\n",
    "        elif y_pre[0]==\"happy\":\n",
    "            webbrowser.open('https://www.youtube.com/watch?v=MU0Yp0qmYEs')   \n",
    "        elif y_pre[0]==\"sad\":\n",
    "            webbrowser.open('https://www.youtube.com/watch?v=-xLk6Mj1xE4') \n",
    "        elif y_pre[0]==\"angry\":\n",
    "            webbrowser.open('https://www.youtube.com/watch?v=KMhrimqyD38')  \n",
    "        elif y_pre[0]==\"fearful\":\n",
    "            webbrowser.open('https://www.youtube.com/watch?v=yfUdn8AtwSw') \n",
    "        elif y_pre[0]==\"disgust\":\n",
    "            webbrowser.open('https://www.youtube.com/watch?v=yfUdn8AtwSw') \n",
    "        else:\n",
    "            webbrowser.open('https://www.youtube.com/watch?v=cE2PmYJaj9w') \n",
    "    def dontplay():\n",
    "        label3=Label(frame1,text=\"OK!!\",bg=\"#ffd6d6\").grid(row=7,column=1,pady= 10,padx= 5)\n",
    "    btn1=Button(frame1,text=\"Yes\",width=10,command=playsong).grid(row=5,column=0,sticky=W)\n",
    "    btn2=Button(frame1,text=\"No\",width=10,command=dontplay).grid(row=5,column=1)\n",
    "b = Button(frame1,text = \"Detect Emotion\",width=25 ,command=myClick).grid(row=2,column=0,pady= 10)\n",
    "master.mainloop()"
   ]
  },
  {
   "cell_type": "code",
   "execution_count": null,
   "metadata": {},
   "outputs": [],
   "source": []
  }
 ],
 "metadata": {
  "kernelspec": {
   "display_name": "Python 3",
   "language": "python",
   "name": "python3"
  },
  "language_info": {
   "codemirror_mode": {
    "name": "ipython",
    "version": 3
   },
   "file_extension": ".py",
   "mimetype": "text/x-python",
   "name": "python",
   "nbconvert_exporter": "python",
   "pygments_lexer": "ipython3",
   "version": "3.8.5"
  }
 },
 "nbformat": 4,
 "nbformat_minor": 4
}
