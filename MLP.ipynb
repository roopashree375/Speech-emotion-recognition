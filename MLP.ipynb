{
 "cells": [
  {
   "cell_type": "markdown",
   "metadata": {
    "colab_type": "text",
    "id": "SKNo9RTBj1hA"
   },
   "source": [
    "#Speech Emotion Recognition with MLP Classifier\n",
    "\n"
   ]
  },
  {
   "cell_type": "markdown",
   "metadata": {
    "colab_type": "text",
    "id": "AztUA74EerMQ"
   },
   "source": [
    "#Dataset\n",
    "The Ryerson Audio-Visual Database of Emotional Speech and Song (RAVDESS) \n",
    "\n",
    "---\n",
    "Audio-only files\n",
    "\n",
    "Audio-only files of all actors (01-24) are available as two separate zip files (~200 MB each):\n",
    "\n",
    "Speech file (Audio_Speech_Actors_01-24.zip, 215 MB) contains 1440 files: 60 trials per actor x 24 actors = 1440. \n",
    "Song file (Audio_Song_Actors_01-24.zip, 198 MB) contains 1012 files: 44 trials per actor x 23 actors = 1012.\n",
    "\n",
    "Total=2452\n",
    "\n",
    "---\n",
    "\n",
    "---\n",
    "Toronto emotional speech set (TESS)\n",
    "\n",
    "---\n",
    "\n",
    "\n",
    "There are a set of 200 target words were spoken in the carrier phrase \"Say the word _' by two actresses (aged 26 and 64 years) and recordings were made of the set portraying each of seven emotions (anger, disgust, fear, happiness, pleasant surprise, sadness, and neutral). There are 2800 data points (audio files) in total.\n",
    "\n",
    "The dataset is organised such that each of the two female actor and their emotions are contain within its own folder. And within that, all 200 target words audio file can be found. The format of the audio file is a WAV format\n",
    "\n",
    "\n",
    "---\n",
    "\n"
   ]
  },
  {
   "cell_type": "markdown",
   "metadata": {
    "colab_type": "text",
    "id": "ix0uuwXsXIQ6"
   },
   "source": [
    "# Mount google drive\n",
    "\n"
   ]
  },
  {
   "cell_type": "code",
   "execution_count": null,
   "metadata": {
    "colab": {
     "base_uri": "https://localhost:8080/",
     "height": 126
    },
    "colab_type": "code",
    "id": "tjUtB3Elrudq",
    "outputId": "75735104-51f9-4cb2-e890-fcac5f1e3db5"
   },
   "outputs": [],
   "source": []
  },
  {
   "cell_type": "markdown",
   "metadata": {
    "colab_type": "text",
    "id": "nrH14Ttlo2EL"
   },
   "source": [
    "# Install following libraries"
   ]
  },
  {
   "cell_type": "code",
   "execution_count": 19,
   "metadata": {
    "colab": {
     "base_uri": "https://localhost:8080/",
     "height": 517
    },
    "colab_type": "code",
    "id": "spdyH1iXo5lB",
    "outputId": "82aad428-c6f8-4a79-e26e-6023ba37673e"
   },
   "outputs": [
    {
     "name": "stdout",
     "output_type": "stream",
     "text": [
      "Requirement already satisfied: librosa in c:\\users\\roopa\\anaconda3\\lib\\site-packages (0.8.1)\n",
      "Requirement already satisfied: soundfile in c:\\users\\roopa\\anaconda3\\lib\\site-packages (0.10.3.post1)\n",
      "Requirement already satisfied: numpy in c:\\users\\roopa\\anaconda3\\lib\\site-packages (1.19.2)"
     ]
    },
    {
     "name": "stderr",
     "output_type": "stream",
     "text": [
      "  ERROR: Command errored out with exit status 1:\n",
      "   command: 'C:\\Users\\roopa\\anaconda3\\python.exe' -u -c 'import sys, setuptools, tokenize; sys.argv[0] = '\"'\"'C:\\\\Users\\\\roopa\\\\AppData\\\\Local\\\\Temp\\\\pip-install-vy1g1bry\\\\pyaudio\\\\setup.py'\"'\"'; __file__='\"'\"'C:\\\\Users\\\\roopa\\\\AppData\\\\Local\\\\Temp\\\\pip-install-vy1g1bry\\\\pyaudio\\\\setup.py'\"'\"';f=getattr(tokenize, '\"'\"'open'\"'\"', open)(__file__);code=f.read().replace('\"'\"'\\r\\n'\"'\"', '\"'\"'\\n'\"'\"');f.close();exec(compile(code, __file__, '\"'\"'exec'\"'\"'))' bdist_wheel -d 'C:\\Users\\roopa\\AppData\\Local\\Temp\\pip-wheel-ixnvcj68'\n",
      "       cwd: C:\\Users\\roopa\\AppData\\Local\\Temp\\pip-install-vy1g1bry\\pyaudio\\\n",
      "  Complete output (9 lines):\n",
      "  running bdist_wheel\n",
      "  running build\n",
      "  running build_py\n",
      "  creating build\n",
      "  creating build\\lib.win-amd64-3.8\n",
      "  copying src\\pyaudio.py -> build\\lib.win-amd64-3.8\n",
      "  running build_ext\n",
      "  building '_portaudio' extension\n",
      "  error: Microsoft Visual C++ 14.0 or greater is required. Get it with \"Microsoft C++ Build Tools\": https://visualstudio.microsoft.com/visual-cpp-build-tools/\n",
      "  ----------------------------------------\n",
      "  ERROR: Failed building wheel for pyaudio\n",
      "    ERROR: Command errored out with exit status 1:\n",
      "     command: 'C:\\Users\\roopa\\anaconda3\\python.exe' -u -c 'import sys, setuptools, tokenize; sys.argv[0] = '\"'\"'C:\\\\Users\\\\roopa\\\\AppData\\\\Local\\\\Temp\\\\pip-install-vy1g1bry\\\\pyaudio\\\\setup.py'\"'\"'; __file__='\"'\"'C:\\\\Users\\\\roopa\\\\AppData\\\\Local\\\\Temp\\\\pip-install-vy1g1bry\\\\pyaudio\\\\setup.py'\"'\"';f=getattr(tokenize, '\"'\"'open'\"'\"', open)(__file__);code=f.read().replace('\"'\"'\\r\\n'\"'\"', '\"'\"'\\n'\"'\"');f.close();exec(compile(code, __file__, '\"'\"'exec'\"'\"'))' install --record 'C:\\Users\\roopa\\AppData\\Local\\Temp\\pip-record-gs8i0xpd\\install-record.txt' --single-version-externally-managed --compile --install-headers 'C:\\Users\\roopa\\anaconda3\\Include\\pyaudio'\n",
      "         cwd: C:\\Users\\roopa\\AppData\\Local\\Temp\\pip-install-vy1g1bry\\pyaudio\\\n",
      "    Complete output (9 lines):\n",
      "    running install\n",
      "    running build\n",
      "    running build_py\n",
      "    creating build\n",
      "    creating build\\lib.win-amd64-3.8\n",
      "    copying src\\pyaudio.py -> build\\lib.win-amd64-3.8\n",
      "    running build_ext\n",
      "    building '_portaudio' extension\n",
      "    error: Microsoft Visual C++ 14.0 or greater is required. Get it with \"Microsoft C++ Build Tools\": https://visualstudio.microsoft.com/visual-cpp-build-tools/\n",
      "    ----------------------------------------\n",
      "ERROR: Command errored out with exit status 1: 'C:\\Users\\roopa\\anaconda3\\python.exe' -u -c 'import sys, setuptools, tokenize; sys.argv[0] = '\"'\"'C:\\\\Users\\\\roopa\\\\AppData\\\\Local\\\\Temp\\\\pip-install-vy1g1bry\\\\pyaudio\\\\setup.py'\"'\"'; __file__='\"'\"'C:\\\\Users\\\\roopa\\\\AppData\\\\Local\\\\Temp\\\\pip-install-vy1g1bry\\\\pyaudio\\\\setup.py'\"'\"';f=getattr(tokenize, '\"'\"'open'\"'\"', open)(__file__);code=f.read().replace('\"'\"'\\r\\n'\"'\"', '\"'\"'\\n'\"'\"');f.close();exec(compile(code, __file__, '\"'\"'exec'\"'\"'))' install --record 'C:\\Users\\roopa\\AppData\\Local\\Temp\\pip-record-gs8i0xpd\\install-record.txt' --single-version-externally-managed --compile --install-headers 'C:\\Users\\roopa\\anaconda3\\Include\\pyaudio' Check the logs for full command output.\n"
     ]
    },
    {
     "name": "stdout",
     "output_type": "stream",
     "text": [
      "\n",
      "Requirement already satisfied: sklearn in c:\\users\\roopa\\anaconda3\\lib\\site-packages (0.0)\n",
      "Collecting pyaudio\n",
      "  Using cached PyAudio-0.2.11.tar.gz (37 kB)\n",
      "Requirement already satisfied: scikit-learn!=0.19.0,>=0.14.0 in c:\\users\\roopa\\anaconda3\\lib\\site-packages (from librosa) (0.23.2)\n",
      "Requirement already satisfied: joblib>=0.14 in c:\\users\\roopa\\anaconda3\\lib\\site-packages (from librosa) (0.17.0)\n",
      "Requirement already satisfied: numba>=0.43.0 in c:\\users\\roopa\\anaconda3\\lib\\site-packages (from librosa) (0.51.2)\n",
      "Requirement already satisfied: audioread>=2.0.0 in c:\\users\\roopa\\anaconda3\\lib\\site-packages (from librosa) (2.1.9)\n",
      "Requirement already satisfied: resampy>=0.2.2 in c:\\users\\roopa\\anaconda3\\lib\\site-packages (from librosa) (0.2.2)\n",
      "Requirement already satisfied: scipy>=1.0.0 in c:\\users\\roopa\\anaconda3\\lib\\site-packages (from librosa) (1.5.2)\n",
      "Requirement already satisfied: decorator>=3.0.0 in c:\\users\\roopa\\anaconda3\\lib\\site-packages (from librosa) (4.4.2)\n",
      "Requirement already satisfied: packaging>=20.0 in c:\\users\\roopa\\anaconda3\\lib\\site-packages (from librosa) (20.4)\n",
      "Requirement already satisfied: pooch>=1.0 in c:\\users\\roopa\\anaconda3\\lib\\site-packages (from librosa) (1.4.0)\n",
      "Requirement already satisfied: cffi>=1.0 in c:\\users\\roopa\\anaconda3\\lib\\site-packages (from soundfile) (1.14.3)\n",
      "Requirement already satisfied: threadpoolctl>=2.0.0 in c:\\users\\roopa\\anaconda3\\lib\\site-packages (from scikit-learn!=0.19.0,>=0.14.0->librosa) (2.1.0)\n",
      "Requirement already satisfied: llvmlite<0.35,>=0.34.0.dev0 in c:\\users\\roopa\\anaconda3\\lib\\site-packages (from numba>=0.43.0->librosa) (0.34.0)\n",
      "Requirement already satisfied: setuptools in c:\\users\\roopa\\anaconda3\\lib\\site-packages (from numba>=0.43.0->librosa) (50.3.1.post20201107)\n",
      "Requirement already satisfied: six>=1.3 in c:\\users\\roopa\\anaconda3\\lib\\site-packages (from resampy>=0.2.2->librosa) (1.15.0)\n",
      "Requirement already satisfied: pyparsing>=2.0.2 in c:\\users\\roopa\\anaconda3\\lib\\site-packages (from packaging>=20.0->librosa) (2.4.7)\n",
      "Requirement already satisfied: requests in c:\\users\\roopa\\anaconda3\\lib\\site-packages (from pooch>=1.0->librosa) (2.24.0)\n",
      "Requirement already satisfied: appdirs in c:\\users\\roopa\\anaconda3\\lib\\site-packages (from pooch>=1.0->librosa) (1.4.4)\n",
      "Requirement already satisfied: pycparser in c:\\users\\roopa\\anaconda3\\lib\\site-packages (from cffi>=1.0->soundfile) (2.20)\n",
      "Requirement already satisfied: chardet<4,>=3.0.2 in c:\\users\\roopa\\anaconda3\\lib\\site-packages (from requests->pooch>=1.0->librosa) (3.0.4)\n",
      "Requirement already satisfied: certifi>=2017.4.17 in c:\\users\\roopa\\anaconda3\\lib\\site-packages (from requests->pooch>=1.0->librosa) (2020.6.20)\n",
      "Requirement already satisfied: urllib3!=1.25.0,!=1.25.1,<1.26,>=1.21.1 in c:\\users\\roopa\\anaconda3\\lib\\site-packages (from requests->pooch>=1.0->librosa) (1.25.11)\n",
      "Requirement already satisfied: idna<3,>=2.5 in c:\\users\\roopa\\anaconda3\\lib\\site-packages (from requests->pooch>=1.0->librosa) (2.10)\n",
      "Building wheels for collected packages: pyaudio\n",
      "  Building wheel for pyaudio (setup.py): started\n",
      "  Building wheel for pyaudio (setup.py): finished with status 'error'\n",
      "  Running setup.py clean for pyaudio\n",
      "Failed to build pyaudio\n",
      "Installing collected packages: pyaudio\n",
      "    Running setup.py install for pyaudio: started\n",
      "    Running setup.py install for pyaudio: finished with status 'error'\n"
     ]
    }
   ],
   "source": [
    "!pip install librosa soundfile numpy sklearn pyaudio"
   ]
  },
  {
   "cell_type": "code",
   "execution_count": 21,
   "metadata": {
    "colab": {
     "base_uri": "https://localhost:8080/",
     "height": 70
    },
    "colab_type": "code",
    "id": "JdmYeo1-fXtz",
    "outputId": "b5202521-fdac-438a-8596-8bd2fe312e47"
   },
   "outputs": [
    {
     "name": "stdout",
     "output_type": "stream",
     "text": [
      "Requirement already satisfied: soundfile in c:\\users\\roopa\\anaconda3\\lib\\site-packages (0.10.3.post1)\n",
      "Requirement already satisfied: cffi>=1.0 in c:\\users\\roopa\\anaconda3\\lib\\site-packages (from soundfile) (1.14.3)\n",
      "Requirement already satisfied: pycparser in c:\\users\\roopa\\anaconda3\\lib\\site-packages (from cffi>=1.0->soundfile) (2.20)\n"
     ]
    }
   ],
   "source": [
    "!pip install soundfile"
   ]
  },
  {
   "cell_type": "markdown",
   "metadata": {
    "colab_type": "text",
    "id": "tqlY-_LUpD3l"
   },
   "source": [
    "# Make the necessary imports"
   ]
  },
  {
   "cell_type": "code",
   "execution_count": 22,
   "metadata": {
    "colab": {},
    "colab_type": "code",
    "id": "3fyYSbcJjy7i"
   },
   "outputs": [],
   "source": [
    "import librosa\n",
    "import soundfile\n",
    "import os, glob, pickle\n",
    "import numpy as np\n",
    "from sklearn.model_selection import train_test_split\n",
    "from sklearn.neural_network import MLPClassifier\n",
    "from sklearn.metrics import accuracy_score"
   ]
  },
  {
   "cell_type": "markdown",
   "metadata": {
    "colab_type": "text",
    "id": "6QufSKr1ksJc"
   },
   "source": [
    "Define a function extract_feature to extract the mfcc, chroma, and mel features from a sound file. This function takes 4 parameters- the file name and three Boolean parameters for the three features:\n",
    "\n",
    "* mfcc: Mel Frequency Cepstral Coefficient, represents the short-term power spectrum of a sound\n",
    "* chroma: Pertains to the 12 different pitch classes\n",
    "* mel: Mel Spectrogram Frequency"
   ]
  },
  {
   "cell_type": "code",
   "execution_count": 23,
   "metadata": {
    "colab": {},
    "colab_type": "code",
    "id": "dwB6D_vLpOoR"
   },
   "outputs": [],
   "source": [
    "def extract_feature(file_name, mfcc, chroma, mel):\n",
    "    X, sample_rate = librosa.load(os.path.join(file_name), res_type='kaiser_fast')\n",
    "    if chroma:\n",
    "        stft=np.abs(librosa.stft(X))\n",
    "    result=np.array([])\n",
    "    if mfcc:\n",
    "        mfccs=np.mean(librosa.feature.mfcc(y=X, sr=sample_rate, n_mfcc=40).T, axis=0)\n",
    "        result=np.hstack((result, mfccs))\n",
    "    if chroma:\n",
    "        chroma=np.mean(librosa.feature.chroma_stft(S=stft, sr=sample_rate).T,axis=0)\n",
    "        result=np.hstack((result, chroma))\n",
    "    if mel:\n",
    "        mel=np.mean(librosa.feature.melspectrogram(X, sr=sample_rate).T,axis=0)\n",
    "        result=np.hstack((result, mel))\n",
    "    return result"
   ]
  },
  {
   "cell_type": "markdown",
   "metadata": {
    "colab_type": "text",
    "id": "6xKzPyVcjvyT"
   },
   "source": [
    "Now, let’s define a dictionary to hold numbers and the emotions available in the RAVDESS & TESS dataset, and a list to hold all 8 emotions- neutral,calm,happy,sad,angry,fearful,disgust,surprised."
   ]
  },
  {
   "cell_type": "code",
   "execution_count": 24,
   "metadata": {
    "colab": {},
    "colab_type": "code",
    "id": "EgwcKBQzpdgM"
   },
   "outputs": [],
   "source": [
    "# Emotions in the RAVDESS & TESS dataset\n",
    "emotions={\n",
    "  '01':'neutral',\n",
    "  '02':'calm',\n",
    "  '03':'happy',\n",
    "  '04':'sad',\n",
    "  '05':'angry',\n",
    "  '06':'fearful',\n",
    "  '07':'disgust',\n",
    "  '08':'surprised'\n",
    "}\n",
    "# Emotions to observe\n",
    "observed_emotions=['neutral','calm','happy','sad','angry','fearful']"
   ]
  },
  {
   "cell_type": "markdown",
   "metadata": {
    "colab_type": "text",
    "id": "2VjDiYuC3G-D"
   },
   "source": [
    "# Load the data and extract features for each sound file"
   ]
  },
  {
   "cell_type": "code",
   "execution_count": 25,
   "metadata": {
    "colab": {},
    "colab_type": "code",
    "id": "f2axyBFDqI1A"
   },
   "outputs": [],
   "source": [
    "def load_data(test_size=0.2):\n",
    "    x,y=[],[]\n",
    "    for file in glob.glob('./NewDataSet/*_*/*.wav'):\n",
    "        file_name=os.path.basename(file)\n",
    "        if file_name[0]=='0':\n",
    "            emotion=emotions[file_name.split(\"-\")[2]]\n",
    "        else:\n",
    "            emotion=file_name.split(\"_\")[2]\n",
    "            emotion=emotion.split(\".\")[0]\n",
    "        if emotion not in observed_emotions:\n",
    "            continue\n",
    "        feature=extract_feature(file, mfcc=True, chroma=True, mel=True)\n",
    "        x.append(feature)\n",
    "        y.append(emotion)\n",
    "    return train_test_split(np.array(x), y, test_size=test_size, train_size= 0.75,random_state=9)"
   ]
  },
  {
   "cell_type": "markdown",
   "metadata": {
    "colab_type": "text",
    "id": "wKhGTlqpqOAr"
   },
   "source": [
    "# Split the Dataset\n",
    "Time to split the dataset into training and testing sets! Let’s keep the test set 25% of everything and use the load_data function for this."
   ]
  },
  {
   "cell_type": "code",
   "execution_count": 26,
   "metadata": {
    "colab": {},
    "colab_type": "code",
    "id": "a92bN5vAqRb2"
   },
   "outputs": [],
   "source": [
    "# Split the dataset\n",
    "import time\n",
    "x_train,x_test,y_train,y_test=load_data(test_size=0.25)"
   ]
  },
  {
   "cell_type": "markdown",
   "metadata": {
    "colab_type": "text",
    "id": "46eeiQbYqT7p"
   },
   "source": [
    "#Observe the shape of the training and testing datasets:"
   ]
  },
  {
   "cell_type": "code",
   "execution_count": 11,
   "metadata": {
    "colab": {
     "base_uri": "https://localhost:8080/",
     "height": 35
    },
    "colab_type": "code",
    "id": "_MXFh4lwqYaC",
    "outputId": "eb020e32-a754-4510-97b1-8aaddfba58de"
   },
   "outputs": [
    {
     "name": "stdout",
     "output_type": "stream",
     "text": [
      "(2751, 917)\n"
     ]
    }
   ],
   "source": [
    "#Get the shape of the training and testing datasets\n",
    "print((x_train.shape[0], x_test.shape[0]))"
   ]
  },
  {
   "cell_type": "markdown",
   "metadata": {
    "colab_type": "text",
    "id": "xmwRPZe7qey5"
   },
   "source": [
    "# Number of features extracted."
   ]
  },
  {
   "cell_type": "code",
   "execution_count": 12,
   "metadata": {
    "colab": {
     "base_uri": "https://localhost:8080/",
     "height": 35
    },
    "colab_type": "code",
    "id": "H3C6czeDqgxX",
    "outputId": "8625bb60-0a8b-4f66-9b50-88a536ea8b5e"
   },
   "outputs": [
    {
     "name": "stdout",
     "output_type": "stream",
     "text": [
      "Features extracted: 180\n"
     ]
    }
   ],
   "source": [
    "# Get the number of features extracted\n",
    "print(f'Features extracted: {x_train.shape[1]}')"
   ]
  },
  {
   "cell_type": "markdown",
   "metadata": {
    "colab_type": "text",
    "id": "YEvGnx7r3W7f"
   },
   "source": [
    "# MLP Classifier"
   ]
  },
  {
   "cell_type": "code",
   "execution_count": 13,
   "metadata": {
    "colab": {},
    "colab_type": "code",
    "id": "pvggD94ZqmAY"
   },
   "outputs": [],
   "source": [
    "# Initialize the Multi Layer Perceptron Classifier\n",
    "model=MLPClassifier(alpha=0.01, batch_size=256, epsilon=1e-08, hidden_layer_sizes=(300,), learning_rate='adaptive', max_iter=500)"
   ]
  },
  {
   "cell_type": "markdown",
   "metadata": {
    "colab_type": "text",
    "id": "cG4YLLXGqpAb"
   },
   "source": [
    "#Fit/train the model."
   ]
  },
  {
   "cell_type": "code",
   "execution_count": 14,
   "metadata": {
    "colab": {
     "base_uri": "https://localhost:8080/",
     "height": 159
    },
    "colab_type": "code",
    "id": "9OfJEVsDqrbY",
    "outputId": "b488b813-c7c9-475e-e527-9428af91ae5c"
   },
   "outputs": [
    {
     "data": {
      "text/plain": [
       "MLPClassifier(alpha=0.01, batch_size=256, hidden_layer_sizes=(300,),\n",
       "              learning_rate='adaptive', max_iter=500)"
      ]
     },
     "execution_count": 14,
     "metadata": {},
     "output_type": "execute_result"
    }
   ],
   "source": [
    "# Train the model\n",
    "model.fit(x_train,y_train)"
   ]
  },
  {
   "cell_type": "markdown",
   "metadata": {
    "colab_type": "text",
    "id": "iDC7AkAt21EF"
   },
   "source": [
    "# Predict the accuracy of our model"
   ]
  },
  {
   "cell_type": "markdown",
   "metadata": {
    "colab_type": "text",
    "id": "D2Kzw2Emqt1p"
   },
   "source": [
    "Let’s predict the values for the test set. This gives us y_pred (the predicted emotions for the features in the test set)."
   ]
  },
  {
   "cell_type": "code",
   "execution_count": 15,
   "metadata": {
    "colab": {},
    "colab_type": "code",
    "id": "YNVNDVnBqw1z"
   },
   "outputs": [],
   "source": [
    "# Predict for the test set\n",
    "y_pred=model.predict(x_test)"
   ]
  },
  {
   "cell_type": "markdown",
   "metadata": {
    "colab_type": "text",
    "id": "njU6Gs6jqzkg"
   },
   "source": [
    "To calculate the accuracy of our model, we’ll call up the accuracy_score() function we imported from sklearn. Finally, we’ll round the accuracy to 2 decimal places and print it out."
   ]
  },
  {
   "cell_type": "code",
   "execution_count": 16,
   "metadata": {
    "colab": {
     "base_uri": "https://localhost:8080/",
     "height": 35
    },
    "colab_type": "code",
    "id": "_sDEv4K1q1VA",
    "outputId": "b701c4ab-54b0-4173-ebe5-da659c5dd44a"
   },
   "outputs": [
    {
     "name": "stdout",
     "output_type": "stream",
     "text": [
      "Accuracy: 81.24%\n",
      "['angry' 'happy' 'angry' 'fearful' 'sad' 'angry' 'fearful' 'fearful'\n",
      " 'neutral' 'angry' 'angry' 'angry' 'happy' 'happy' 'calm' 'fearful' 'calm'\n",
      " 'fearful' 'fearful' 'sad' 'fearful' 'sad' 'angry' 'angry' 'sad' 'fearful'\n",
      " 'fearful' 'sad' 'neutral' 'calm' 'sad' 'sad' 'happy' 'neutral' 'happy'\n",
      " 'neutral' 'sad' 'sad' 'angry' 'fearful' 'calm' 'sad' 'fearful' 'angry'\n",
      " 'sad' 'sad' 'neutral' 'angry' 'neutral' 'happy' 'neutral' 'fearful'\n",
      " 'happy' 'fearful' 'angry' 'neutral' 'sad' 'happy' 'sad' 'happy' 'neutral'\n",
      " 'sad' 'sad' 'sad' 'sad' 'sad' 'happy' 'happy' 'happy' 'neutral' 'angry'\n",
      " 'neutral' 'angry' 'fearful' 'fearful' 'sad' 'sad' 'neutral' 'fearful'\n",
      " 'neutral' 'sad' 'happy' 'happy' 'neutral' 'sad' 'neutral' 'angry' 'happy'\n",
      " 'sad' 'calm' 'sad' 'angry' 'calm' 'sad' 'fearful' 'happy' 'sad' 'angry'\n",
      " 'calm' 'calm' 'angry' 'happy' 'calm' 'neutral' 'sad' 'calm' 'neutral'\n",
      " 'sad' 'sad' 'fearful' 'neutral' 'angry' 'fearful' 'neutral' 'happy'\n",
      " 'angry' 'fearful' 'neutral' 'fearful' 'sad' 'sad' 'happy' 'fearful'\n",
      " 'angry' 'sad' 'angry' 'sad' 'fearful' 'angry' 'sad' 'neutral' 'sad'\n",
      " 'happy' 'happy' 'neutral' 'happy' 'neutral' 'happy' 'sad' 'happy' 'calm'\n",
      " 'sad' 'fearful' 'angry' 'neutral' 'sad' 'sad' 'sad' 'neutral' 'calm'\n",
      " 'calm' 'calm' 'sad' 'fearful' 'sad' 'neutral' 'happy' 'neutral' 'sad'\n",
      " 'sad' 'sad' 'fearful' 'angry' 'sad' 'sad' 'angry' 'fearful' 'angry' 'sad'\n",
      " 'neutral' 'fearful' 'sad' 'angry' 'neutral' 'fearful' 'happy' 'happy'\n",
      " 'sad' 'neutral' 'happy' 'fearful' 'neutral' 'sad' 'sad' 'happy' 'sad'\n",
      " 'happy' 'angry' 'neutral' 'calm' 'sad' 'sad' 'fearful' 'neutral' 'happy'\n",
      " 'sad' 'happy' 'fearful' 'angry' 'angry' 'happy' 'angry' 'neutral'\n",
      " 'fearful' 'sad' 'neutral' 'angry' 'happy' 'sad' 'angry' 'angry' 'happy'\n",
      " 'happy' 'neutral' 'calm' 'calm' 'happy' 'sad' 'sad' 'sad' 'fearful' 'sad'\n",
      " 'sad' 'angry' 'fearful' 'sad' 'sad' 'angry' 'sad' 'angry' 'happy'\n",
      " 'fearful' 'calm' 'calm' 'happy' 'sad' 'angry' 'sad' 'fearful' 'sad'\n",
      " 'happy' 'neutral' 'happy' 'happy' 'fearful' 'angry' 'sad' 'angry' 'angry'\n",
      " 'angry' 'happy' 'angry' 'fearful' 'calm' 'fearful' 'sad' 'neutral' 'calm'\n",
      " 'calm' 'neutral' 'angry' 'sad' 'sad' 'neutral' 'neutral' 'sad' 'sad'\n",
      " 'sad' 'angry' 'neutral' 'angry' 'sad' 'neutral' 'sad' 'sad' 'calm'\n",
      " 'neutral' 'happy' 'angry' 'neutral' 'happy' 'happy' 'angry' 'fearful'\n",
      " 'fearful' 'neutral' 'sad' 'sad' 'sad' 'fearful' 'neutral' 'fearful' 'sad'\n",
      " 'fearful' 'sad' 'fearful' 'fearful' 'angry' 'happy' 'fearful' 'sad'\n",
      " 'happy' 'calm' 'neutral' 'fearful' 'angry' 'sad' 'happy' 'angry'\n",
      " 'neutral' 'calm' 'fearful' 'happy' 'happy' 'fearful' 'happy' 'fearful'\n",
      " 'angry' 'neutral' 'neutral' 'fearful' 'neutral' 'fearful' 'sad' 'angry'\n",
      " 'fearful' 'sad' 'angry' 'happy' 'happy' 'calm' 'angry' 'sad' 'sad'\n",
      " 'angry' 'sad' 'happy' 'fearful' 'happy' 'angry' 'sad' 'fearful' 'fearful'\n",
      " 'neutral' 'angry' 'neutral' 'happy' 'angry' 'fearful' 'sad' 'neutral'\n",
      " 'angry' 'neutral' 'fearful' 'fearful' 'sad' 'angry' 'happy' 'angry'\n",
      " 'angry' 'happy' 'fearful' 'sad' 'sad' 'sad' 'neutral' 'angry' 'happy'\n",
      " 'angry' 'sad' 'sad' 'sad' 'neutral' 'sad' 'happy' 'calm' 'sad' 'calm'\n",
      " 'sad' 'sad' 'angry' 'neutral' 'angry' 'neutral' 'happy' 'angry' 'calm'\n",
      " 'neutral' 'neutral' 'fearful' 'angry' 'angry' 'angry' 'happy' 'happy'\n",
      " 'angry' 'sad' 'happy' 'sad' 'neutral' 'happy' 'happy' 'calm' 'happy'\n",
      " 'happy' 'sad' 'angry' 'happy' 'happy' 'happy' 'fearful' 'happy' 'happy'\n",
      " 'angry' 'neutral' 'sad' 'angry' 'happy' 'neutral' 'sad' 'angry' 'angry'\n",
      " 'fearful' 'fearful' 'neutral' 'happy' 'fearful' 'sad' 'angry' 'fearful'\n",
      " 'neutral' 'happy' 'happy' 'neutral' 'angry' 'sad' 'sad' 'angry' 'happy'\n",
      " 'angry' 'angry' 'neutral' 'neutral' 'neutral' 'happy' 'angry' 'happy'\n",
      " 'sad' 'calm' 'happy' 'angry' 'angry' 'calm' 'happy' 'sad' 'happy' 'angry'\n",
      " 'fearful' 'angry' 'angry' 'happy' 'angry' 'calm' 'sad' 'happy' 'neutral'\n",
      " 'happy' 'angry' 'neutral' 'sad' 'sad' 'sad' 'fearful' 'fearful' 'calm'\n",
      " 'happy' 'sad' 'happy' 'angry' 'happy' 'sad' 'happy' 'calm' 'happy' 'calm'\n",
      " 'neutral' 'sad' 'angry' 'sad' 'neutral' 'angry' 'angry' 'happy' 'fearful'\n",
      " 'fearful' 'sad' 'angry' 'angry' 'neutral' 'neutral' 'sad' 'happy' 'sad'\n",
      " 'sad' 'happy' 'happy' 'fearful' 'angry' 'happy' 'happy' 'sad' 'neutral'\n",
      " 'neutral' 'neutral' 'fearful' 'happy' 'happy' 'fearful' 'sad' 'happy'\n",
      " 'happy' 'fearful' 'happy' 'fearful' 'sad' 'sad' 'fearful' 'angry'\n",
      " 'fearful' 'happy' 'angry' 'sad' 'neutral' 'sad' 'angry' 'sad' 'fearful'\n",
      " 'neutral' 'angry' 'angry' 'angry' 'happy' 'sad' 'sad' 'sad' 'fearful'\n",
      " 'calm' 'angry' 'angry' 'neutral' 'angry' 'angry' 'happy' 'sad' 'happy'\n",
      " 'neutral' 'happy' 'angry' 'calm' 'sad' 'neutral' 'sad' 'calm' 'angry'\n",
      " 'sad' 'angry' 'happy' 'neutral' 'fearful' 'angry' 'sad' 'happy' 'calm'\n",
      " 'happy' 'sad' 'happy' 'sad' 'neutral' 'angry' 'angry' 'angry' 'sad'\n",
      " 'angry' 'sad' 'angry' 'angry' 'fearful' 'neutral' 'angry' 'neutral' 'sad'\n",
      " 'neutral' 'sad' 'sad' 'angry' 'happy' 'happy' 'sad' 'sad' 'fearful'\n",
      " 'happy' 'calm' 'angry' 'sad' 'fearful' 'sad' 'happy' 'sad' 'calm' 'happy'\n",
      " 'sad' 'calm' 'neutral' 'happy' 'sad' 'happy' 'sad' 'fearful' 'angry'\n",
      " 'sad' 'fearful' 'sad' 'sad' 'happy' 'fearful' 'calm' 'neutral' 'happy'\n",
      " 'angry' 'happy' 'happy' 'happy' 'angry' 'angry' 'happy' 'sad' 'sad' 'sad'\n",
      " 'neutral' 'sad' 'neutral' 'sad' 'fearful' 'happy' 'sad' 'neutral' 'sad'\n",
      " 'neutral' 'sad' 'calm' 'angry' 'neutral' 'neutral' 'happy' 'fearful'\n",
      " 'happy' 'neutral' 'fearful' 'neutral' 'calm' 'neutral' 'sad' 'happy'\n",
      " 'sad' 'neutral' 'angry' 'happy' 'calm' 'fearful' 'fearful' 'calm' 'angry'\n",
      " 'fearful' 'sad' 'neutral' 'calm' 'sad' 'angry' 'happy' 'sad' 'sad' 'sad'\n",
      " 'fearful' 'neutral' 'happy' 'angry' 'sad' 'calm' 'calm' 'calm' 'neutral'\n",
      " 'fearful' 'angry' 'neutral' 'sad' 'happy' 'sad' 'sad' 'fearful' 'fearful'\n",
      " 'happy' 'fearful' 'sad' 'happy' 'fearful' 'fearful' 'happy' 'angry'\n",
      " 'calm' 'sad' 'angry' 'angry' 'angry' 'happy' 'neutral' 'sad' 'sad' 'sad'\n",
      " 'neutral' 'fearful' 'happy' 'calm' 'angry' 'fearful' 'sad' 'fearful'\n",
      " 'sad' 'neutral' 'sad' 'sad' 'sad' 'happy' 'angry' 'neutral' 'angry'\n",
      " 'angry' 'happy' 'neutral' 'sad' 'sad' 'calm' 'sad' 'sad' 'calm' 'neutral'\n",
      " 'angry' 'angry' 'sad' 'happy' 'happy' 'angry' 'angry' 'neutral' 'happy'\n",
      " 'angry' 'angry' 'angry' 'angry' 'neutral' 'sad' 'fearful' 'angry' 'sad'\n",
      " 'neutral' 'angry' 'sad' 'angry' 'sad' 'happy' 'sad' 'fearful' 'neutral'\n",
      " 'fearful' 'fearful' 'happy' 'fearful' 'sad' 'neutral' 'neutral' 'angry'\n",
      " 'neutral' 'happy' 'sad' 'happy' 'angry' 'neutral' 'happy' 'happy'\n",
      " 'neutral' 'sad' 'sad' 'angry' 'calm' 'happy' 'calm' 'calm' 'fearful'\n",
      " 'sad' 'sad' 'fearful' 'sad' 'fearful' 'calm' 'neutral' 'happy' 'happy'\n",
      " 'happy' 'happy' 'fearful' 'angry' 'happy' 'fearful' 'angry' 'fearful'\n",
      " 'sad' 'sad' 'happy' 'happy' 'sad' 'angry' 'neutral' 'fearful' 'happy'\n",
      " 'angry' 'sad' 'calm' 'sad' 'sad' 'angry' 'sad' 'sad' 'neutral' 'sad'\n",
      " 'angry' 'fearful' 'sad' 'sad' 'fearful' 'sad' 'sad' 'happy' 'neutral'\n",
      " 'happy' 'neutral' 'neutral' 'fearful' 'neutral' 'neutral' 'happy' 'angry'\n",
      " 'neutral' 'angry' 'neutral' 'calm' 'sad' 'sad' 'happy' 'sad' 'happy'\n",
      " 'neutral' 'happy' 'fearful' 'sad' 'fearful' 'sad' 'happy' 'sad' 'neutral'\n",
      " 'fearful' 'angry' 'happy' 'calm' 'happy' 'angry' 'sad' 'happy' 'sad'\n",
      " 'angry' 'happy' 'fearful' 'neutral' 'angry' 'sad' 'sad' 'neutral' 'sad'\n",
      " 'sad' 'neutral' 'sad' 'sad' 'sad' 'fearful' 'fearful' 'happy' 'sad'\n",
      " 'happy' 'calm' 'sad' 'sad' 'angry' 'sad' 'sad' 'happy' 'angry' 'angry'\n",
      " 'angry' 'happy' 'neutral' 'neutral' 'angry' 'neutral' 'neutral' 'sad'\n",
      " 'happy' 'happy' 'fearful' 'sad']\n"
     ]
    }
   ],
   "source": [
    "# Calculate the accuracy of our model\n",
    "accuracy=accuracy_score(y_true=y_test, y_pred=y_pred)\n",
    "# Print the accuracy\n",
    "print(\"Accuracy: {:.2f}%\".format(accuracy*100))\n",
    "print(y_pred)"
   ]
  },
  {
   "cell_type": "markdown",
   "metadata": {
    "colab_type": "text",
    "id": "hGdh6fh02hFc"
   },
   "source": [
    "#classification Report"
   ]
  },
  {
   "cell_type": "code",
   "execution_count": 17,
   "metadata": {
    "colab": {
     "base_uri": "https://localhost:8080/",
     "height": 284
    },
    "colab_type": "code",
    "id": "2xreI8SSq6Rc",
    "outputId": "e7a791de-bbc6-47d7-fdbe-ab80a0f8e53d"
   },
   "outputs": [
    {
     "name": "stdout",
     "output_type": "stream",
     "text": [
      "              precision    recall  f1-score   support\n",
      "\n",
      "       angry       0.90      0.86      0.88       177\n",
      "        calm       0.88      0.57      0.69        98\n",
      "     fearful       0.51      0.78      0.62        83\n",
      "       happy       0.90      0.81      0.85       193\n",
      "     neutral       0.94      0.85      0.89       154\n",
      "         sad       0.76      0.86      0.81       212\n",
      "\n",
      "    accuracy                           0.81       917\n",
      "   macro avg       0.81      0.79      0.79       917\n",
      "weighted avg       0.84      0.81      0.82       917\n",
      "\n"
     ]
    }
   ],
   "source": [
    "from sklearn.metrics import classification_report\n",
    "print(classification_report(y_test,y_pred))\n"
   ]
  },
  {
   "cell_type": "markdown",
   "metadata": {
    "colab_type": "text",
    "id": "KZZZBmK32ksS"
   },
   "source": [
    "# Confusion Matrix"
   ]
  },
  {
   "cell_type": "code",
   "execution_count": 18,
   "metadata": {
    "colab": {
     "base_uri": "https://localhost:8080/",
     "height": 159
    },
    "colab_type": "code",
    "id": "Y2IEjtiTtl-f",
    "outputId": "f5c2e30f-b101-4728-9547-f68b4774cbdb"
   },
   "outputs": [
    {
     "name": "stdout",
     "output_type": "stream",
     "text": [
      "[[153   0  13   6   1   4]\n",
      " [  3  56   6   7   4  22]\n",
      " [  6   0  65   1   0  11]\n",
      " [  5   2  19 157   0  10]\n",
      " [  2   4   3   3 131  11]\n",
      " [  1   2  21   1   4 183]]\n"
     ]
    }
   ],
   "source": [
    "from sklearn.metrics import confusion_matrix\n",
    "matrix = confusion_matrix(y_test,y_pred)\n",
    "print (matrix)"
   ]
  },
  {
   "cell_type": "markdown",
   "metadata": {
    "colab_type": "text",
    "id": "EbipGM_Xnfyb"
   },
   "source": [
    "#Thank You"
   ]
  }
 ],
 "metadata": {
  "colab": {
   "collapsed_sections": [],
   "name": "FinalSER.ipynb",
   "provenance": []
  },
  "kernelspec": {
   "display_name": "Python 3",
   "language": "python",
   "name": "python3"
  },
  "language_info": {
   "codemirror_mode": {
    "name": "ipython",
    "version": 3
   },
   "file_extension": ".py",
   "mimetype": "text/x-python",
   "name": "python",
   "nbconvert_exporter": "python",
   "pygments_lexer": "ipython3",
   "version": "3.8.5"
  }
 },
 "nbformat": 4,
 "nbformat_minor": 1
}
